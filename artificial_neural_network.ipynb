{
  "nbformat": 4,
  "nbformat_minor": 0,
  "metadata": {
    "colab": {
      "provenance": [],
      "include_colab_link": true
    },
    "kernelspec": {
      "name": "python3",
      "display_name": "Python 3"
    }
  },
  "cells": [
    {
      "cell_type": "markdown",
      "metadata": {
        "id": "view-in-github",
        "colab_type": "text"
      },
      "source": [
        "<a href=\"https://colab.research.google.com/github/Leonhard13/Leonhard13/blob/main/artificial_neural_network.ipynb\" target=\"_parent\"><img src=\"https://colab.research.google.com/assets/colab-badge.svg\" alt=\"Open In Colab\"/></a>"
      ]
    },
    {
      "cell_type": "markdown",
      "metadata": {
        "id": "lP6JLo1tGNBg"
      },
      "source": [
        "# Artificial Neural Network"
      ]
    },
    {
      "cell_type": "markdown",
      "metadata": {
        "id": "gWZyYmS_UE_L"
      },
      "source": [
        "### Importing the libraries"
      ]
    },
    {
      "cell_type": "code",
      "metadata": {
        "id": "MxkJoQBkUIHC"
      },
      "source": [
        "import numpy as np\n",
        "import pandas as pd\n",
        "import tensorflow as tf"
      ],
      "execution_count": 1,
      "outputs": []
    },
    {
      "cell_type": "code",
      "metadata": {
        "id": "ZaTwK7ojXr2F",
        "outputId": "120f0c2d-fed0-4401-f5e9-67b710cec77a",
        "colab": {
          "base_uri": "https://localhost:8080/",
          "height": 36
        }
      },
      "source": [
        "tf.__version__"
      ],
      "execution_count": 2,
      "outputs": [
        {
          "output_type": "execute_result",
          "data": {
            "text/plain": [
              "'2.9.2'"
            ],
            "application/vnd.google.colaboratory.intrinsic+json": {
              "type": "string"
            }
          },
          "metadata": {},
          "execution_count": 2
        }
      ]
    },
    {
      "cell_type": "markdown",
      "metadata": {
        "id": "1E0Q3aoKUCRX"
      },
      "source": [
        "## Part 1 - Data Preprocessing"
      ]
    },
    {
      "cell_type": "markdown",
      "metadata": {
        "id": "cKWAkFVGUU0Z"
      },
      "source": [
        "### Importing the dataset"
      ]
    },
    {
      "cell_type": "code",
      "metadata": {
        "id": "MXUkhkMfU4wq"
      },
      "source": [
        "dataset = pd.read_csv('alcohol_ANN.csv')\n",
        "X = dataset.iloc[:, :-1].values\n",
        "y = dataset.iloc[:, -1].values"
      ],
      "execution_count": 3,
      "outputs": []
    },
    {
      "cell_type": "code",
      "metadata": {
        "id": "VYP9cQTWbzuI",
        "outputId": "21930ac1-8ac4-4e7b-d6c1-e744396821d3",
        "colab": {
          "base_uri": "https://localhost:8080/"
        }
      },
      "source": [
        "print(X)"
      ],
      "execution_count": 4,
      "outputs": [
        {
          "output_type": "stream",
          "name": "stdout",
          "text": [
            "[[40 'Ciudad de Mexico' 'No' ... 0 0 'Hombre']\n",
            " [45 'Puebla' 'No' ... 0 2 'Hombre']\n",
            " [27 'Nuevo Leon' 'No' ... 4 4 'Hombre']\n",
            " ...\n",
            " [49 'Ciudad de Mexico' 'No' ... 0 0 'Mujer']\n",
            " [29 'Guerrero' 'No' ... 0 0 'Hombre']\n",
            " [31 'Estado De Mexico' 'No' ... 2 4 'Hombre']]\n"
          ]
        }
      ]
    },
    {
      "cell_type": "code",
      "metadata": {
        "id": "38vKGE6Nb2RR",
        "outputId": "05249ebd-5632-462e-b025-c270576a7ab9",
        "colab": {
          "base_uri": "https://localhost:8080/"
        }
      },
      "source": [
        "print(y)"
      ],
      "execution_count": 5,
      "outputs": [
        {
          "output_type": "stream",
          "name": "stdout",
          "text": [
            "[0 0 0 ... 0 0 0]\n"
          ]
        }
      ]
    },
    {
      "cell_type": "markdown",
      "metadata": {
        "id": "N6bQ0UgSU-NJ"
      },
      "source": [
        "### Encoding categorical data"
      ]
    },
    {
      "cell_type": "markdown",
      "metadata": {
        "id": "le5MJreAbW52"
      },
      "source": [
        "Label Encoding the \"Gender\" column"
      ]
    },
    {
      "cell_type": "code",
      "metadata": {
        "id": "PxVKWXxLbczC"
      },
      "source": [
        "from sklearn.preprocessing import LabelEncoder\n",
        "le = LabelEncoder()\n",
        "X[:, 14] = le.fit_transform(X[:, 14])\n",
        "X[:, 2] = le.fit_transform(X[:, 2])\n",
        "X[:, 3] = le.fit_transform(X[:, 3])"
      ],
      "execution_count": 8,
      "outputs": []
    },
    {
      "cell_type": "code",
      "metadata": {
        "id": "-M1KboxFb6OO",
        "outputId": "5aaf69b7-3362-42da-d317-22b9b6204e6d",
        "colab": {
          "base_uri": "https://localhost:8080/"
        }
      },
      "source": [
        "print(X)"
      ],
      "execution_count": 9,
      "outputs": [
        {
          "output_type": "stream",
          "name": "stdout",
          "text": [
            "[[40 'Ciudad de Mexico' 0 ... 0 0 0]\n",
            " [45 'Puebla' 0 ... 0 2 0]\n",
            " [27 'Nuevo Leon' 0 ... 4 4 0]\n",
            " ...\n",
            " [49 'Ciudad de Mexico' 0 ... 0 0 1]\n",
            " [29 'Guerrero' 0 ... 0 0 0]\n",
            " [31 'Estado De Mexico' 0 ... 2 4 0]]\n"
          ]
        }
      ]
    },
    {
      "cell_type": "markdown",
      "metadata": {
        "id": "CUxGZezpbMcb"
      },
      "source": [
        "One Hot Encoding the \"Geography\" column"
      ]
    },
    {
      "cell_type": "code",
      "metadata": {
        "id": "AMXC8-KMVirw"
      },
      "source": [
        "from sklearn.compose import ColumnTransformer\n",
        "from sklearn.preprocessing import OneHotEncoder\n",
        "ct = ColumnTransformer(transformers=[('encoder', OneHotEncoder(), [1])], remainder='passthrough')\n",
        "X = np.array(ct.fit_transform(X))"
      ],
      "execution_count": 10,
      "outputs": []
    },
    {
      "cell_type": "code",
      "metadata": {
        "id": "ZcxwEon-b8nV",
        "outputId": "83324330-c71d-4472-d1a6-877df3ee0917",
        "colab": {
          "base_uri": "https://localhost:8080/"
        }
      },
      "source": [
        "print(X)"
      ],
      "execution_count": 11,
      "outputs": [
        {
          "output_type": "stream",
          "name": "stdout",
          "text": [
            "[[0.0 0.0 0.0 ... 0 0 0]\n",
            " [0.0 0.0 0.0 ... 0 2 0]\n",
            " [0.0 0.0 0.0 ... 4 4 0]\n",
            " ...\n",
            " [0.0 0.0 0.0 ... 0 0 1]\n",
            " [0.0 0.0 0.0 ... 0 0 0]\n",
            " [0.0 0.0 0.0 ... 2 4 0]]\n"
          ]
        }
      ]
    },
    {
      "cell_type": "markdown",
      "metadata": {
        "id": "vHol938cW8zd"
      },
      "source": [
        "### Splitting the dataset into the Training set and Test set"
      ]
    },
    {
      "cell_type": "code",
      "metadata": {
        "id": "Z-TDt0Y_XEfc"
      },
      "source": [
        "from sklearn.model_selection import train_test_split\n",
        "X_train, X_test, y_train, y_test = train_test_split(X, y, test_size = 0.2, random_state = 0)"
      ],
      "execution_count": 12,
      "outputs": []
    },
    {
      "cell_type": "markdown",
      "metadata": {
        "id": "RE_FcHyfV3TQ"
      },
      "source": [
        "### Feature Scaling"
      ]
    },
    {
      "cell_type": "code",
      "metadata": {
        "id": "ViCrE00rV8Sk"
      },
      "source": [
        "from sklearn.preprocessing import StandardScaler\n",
        "sc = StandardScaler()\n",
        "X_train = sc.fit_transform(X_train)\n",
        "X_test = sc.transform(X_test)"
      ],
      "execution_count": 14,
      "outputs": []
    },
    {
      "cell_type": "markdown",
      "metadata": {
        "id": "-zfEzkRVXIwF"
      },
      "source": [
        "## Part 2 - Building the ANN"
      ]
    },
    {
      "cell_type": "markdown",
      "metadata": {
        "id": "KvdeScabXtlB"
      },
      "source": [
        "### Initializing the ANN"
      ]
    },
    {
      "cell_type": "code",
      "metadata": {
        "id": "3dtrScHxXQox"
      },
      "source": [
        "ann = tf.keras.models.Sequential()"
      ],
      "execution_count": 15,
      "outputs": []
    },
    {
      "cell_type": "markdown",
      "metadata": {
        "id": "rP6urV6SX7kS"
      },
      "source": [
        "### Adding the input layer and the first hidden layer"
      ]
    },
    {
      "cell_type": "code",
      "metadata": {
        "id": "bppGycBXYCQr"
      },
      "source": [
        "ann.add(tf.keras.layers.Dense(units=6, activation='relu'))"
      ],
      "execution_count": 16,
      "outputs": []
    },
    {
      "cell_type": "markdown",
      "metadata": {
        "id": "BELWAc_8YJze"
      },
      "source": [
        "### Adding the second hidden layer"
      ]
    },
    {
      "cell_type": "code",
      "metadata": {
        "id": "JneR0u0sYRTd"
      },
      "source": [
        "ann.add(tf.keras.layers.Dense(units=6, activation='relu'))"
      ],
      "execution_count": 17,
      "outputs": []
    },
    {
      "cell_type": "markdown",
      "metadata": {
        "id": "OyNEe6RXYcU4"
      },
      "source": [
        "### Adding the output layer"
      ]
    },
    {
      "cell_type": "code",
      "metadata": {
        "id": "Cn3x41RBYfvY"
      },
      "source": [
        "ann.add(tf.keras.layers.Dense(units=1, activation='sigmoid'))"
      ],
      "execution_count": 18,
      "outputs": []
    },
    {
      "cell_type": "markdown",
      "metadata": {
        "id": "JT4u2S1_Y4WG"
      },
      "source": [
        "## Part 3 - Training the ANN"
      ]
    },
    {
      "cell_type": "markdown",
      "metadata": {
        "id": "8GWlJChhY_ZI"
      },
      "source": [
        "### Compiling the ANN"
      ]
    },
    {
      "cell_type": "code",
      "metadata": {
        "id": "fG3RrwDXZEaS"
      },
      "source": [
        "ann.compile(optimizer = 'adam', loss = 'binary_crossentropy', metrics = ['accuracy'])"
      ],
      "execution_count": 19,
      "outputs": []
    },
    {
      "cell_type": "markdown",
      "metadata": {
        "id": "0QR_G5u7ZLSM"
      },
      "source": [
        "### Training the ANN on the Training set"
      ]
    },
    {
      "cell_type": "code",
      "metadata": {
        "id": "nHZ-LKv_ZRb3",
        "outputId": "7f6112c1-db5e-40cc-bef8-a3c7b49b2e14",
        "colab": {
          "base_uri": "https://localhost:8080/"
        }
      },
      "source": [
        "ann.fit(X_train, y_train, batch_size = 32, epochs = 100)"
      ],
      "execution_count": 20,
      "outputs": [
        {
          "output_type": "stream",
          "name": "stdout",
          "text": [
            "Epoch 1/100\n",
            "218/218 [==============================] - 1s 2ms/step - loss: 0.5608 - accuracy: 0.6944\n",
            "Epoch 2/100\n",
            "218/218 [==============================] - 0s 2ms/step - loss: 0.2661 - accuracy: 0.9371\n",
            "Epoch 3/100\n",
            "218/218 [==============================] - 0s 1ms/step - loss: 0.2206 - accuracy: 0.9516\n",
            "Epoch 4/100\n",
            "218/218 [==============================] - 0s 2ms/step - loss: 0.2025 - accuracy: 0.9516\n",
            "Epoch 5/100\n",
            "218/218 [==============================] - 0s 2ms/step - loss: 0.1932 - accuracy: 0.9516\n",
            "Epoch 6/100\n",
            "218/218 [==============================] - 0s 2ms/step - loss: 0.1879 - accuracy: 0.9516\n",
            "Epoch 7/100\n",
            "218/218 [==============================] - 0s 2ms/step - loss: 0.1846 - accuracy: 0.9516\n",
            "Epoch 8/100\n",
            "218/218 [==============================] - 0s 2ms/step - loss: 0.1826 - accuracy: 0.9516\n",
            "Epoch 9/100\n",
            "218/218 [==============================] - 0s 2ms/step - loss: 0.1812 - accuracy: 0.9516\n",
            "Epoch 10/100\n",
            "218/218 [==============================] - 0s 2ms/step - loss: 0.1800 - accuracy: 0.9516\n",
            "Epoch 11/100\n",
            "218/218 [==============================] - 0s 1ms/step - loss: 0.1791 - accuracy: 0.9516\n",
            "Epoch 12/100\n",
            "218/218 [==============================] - 0s 1ms/step - loss: 0.1784 - accuracy: 0.9516\n",
            "Epoch 13/100\n",
            "218/218 [==============================] - 0s 2ms/step - loss: 0.1776 - accuracy: 0.9516\n",
            "Epoch 14/100\n",
            "218/218 [==============================] - 0s 1ms/step - loss: 0.1769 - accuracy: 0.9516\n",
            "Epoch 15/100\n",
            "218/218 [==============================] - 0s 2ms/step - loss: 0.1762 - accuracy: 0.9516\n",
            "Epoch 16/100\n",
            "218/218 [==============================] - 0s 2ms/step - loss: 0.1755 - accuracy: 0.9516\n",
            "Epoch 17/100\n",
            "218/218 [==============================] - 0s 1ms/step - loss: 0.1753 - accuracy: 0.9516\n",
            "Epoch 18/100\n",
            "218/218 [==============================] - 0s 2ms/step - loss: 0.1750 - accuracy: 0.9516\n",
            "Epoch 19/100\n",
            "218/218 [==============================] - 0s 2ms/step - loss: 0.1745 - accuracy: 0.9516\n",
            "Epoch 20/100\n",
            "218/218 [==============================] - 0s 2ms/step - loss: 0.1741 - accuracy: 0.9519\n",
            "Epoch 21/100\n",
            "218/218 [==============================] - 0s 2ms/step - loss: 0.1736 - accuracy: 0.9518\n",
            "Epoch 22/100\n",
            "218/218 [==============================] - 0s 2ms/step - loss: 0.1731 - accuracy: 0.9519\n",
            "Epoch 23/100\n",
            "218/218 [==============================] - 0s 2ms/step - loss: 0.1730 - accuracy: 0.9518\n",
            "Epoch 24/100\n",
            "218/218 [==============================] - 0s 2ms/step - loss: 0.1726 - accuracy: 0.9519\n",
            "Epoch 25/100\n",
            "218/218 [==============================] - 0s 2ms/step - loss: 0.1722 - accuracy: 0.9520\n",
            "Epoch 26/100\n",
            "218/218 [==============================] - 0s 2ms/step - loss: 0.1719 - accuracy: 0.9520\n",
            "Epoch 27/100\n",
            "218/218 [==============================] - 0s 1ms/step - loss: 0.1718 - accuracy: 0.9520\n",
            "Epoch 28/100\n",
            "218/218 [==============================] - 0s 2ms/step - loss: 0.1716 - accuracy: 0.9519\n",
            "Epoch 29/100\n",
            "218/218 [==============================] - 1s 2ms/step - loss: 0.1711 - accuracy: 0.9520\n",
            "Epoch 30/100\n",
            "218/218 [==============================] - 0s 1ms/step - loss: 0.1706 - accuracy: 0.9520\n",
            "Epoch 31/100\n",
            "218/218 [==============================] - 0s 1ms/step - loss: 0.1705 - accuracy: 0.9522\n",
            "Epoch 32/100\n",
            "218/218 [==============================] - 0s 1ms/step - loss: 0.1696 - accuracy: 0.9518\n",
            "Epoch 33/100\n",
            "218/218 [==============================] - 0s 1ms/step - loss: 0.1698 - accuracy: 0.9518\n",
            "Epoch 34/100\n",
            "218/218 [==============================] - 0s 1ms/step - loss: 0.1695 - accuracy: 0.9520\n",
            "Epoch 35/100\n",
            "218/218 [==============================] - 0s 2ms/step - loss: 0.1689 - accuracy: 0.9518\n",
            "Epoch 36/100\n",
            "218/218 [==============================] - 0s 2ms/step - loss: 0.1687 - accuracy: 0.9518\n",
            "Epoch 37/100\n",
            "218/218 [==============================] - 0s 2ms/step - loss: 0.1683 - accuracy: 0.9519\n",
            "Epoch 38/100\n",
            "218/218 [==============================] - 0s 2ms/step - loss: 0.1682 - accuracy: 0.9520\n",
            "Epoch 39/100\n",
            "218/218 [==============================] - 0s 1ms/step - loss: 0.1676 - accuracy: 0.9519\n",
            "Epoch 40/100\n",
            "218/218 [==============================] - 0s 1ms/step - loss: 0.1676 - accuracy: 0.9518\n",
            "Epoch 41/100\n",
            "218/218 [==============================] - 0s 2ms/step - loss: 0.1670 - accuracy: 0.9518\n",
            "Epoch 42/100\n",
            "218/218 [==============================] - 0s 2ms/step - loss: 0.1666 - accuracy: 0.9518\n",
            "Epoch 43/100\n",
            "218/218 [==============================] - 0s 2ms/step - loss: 0.1666 - accuracy: 0.9518\n",
            "Epoch 44/100\n",
            "218/218 [==============================] - 0s 1ms/step - loss: 0.1664 - accuracy: 0.9519\n",
            "Epoch 45/100\n",
            "218/218 [==============================] - 0s 2ms/step - loss: 0.1658 - accuracy: 0.9519\n",
            "Epoch 46/100\n",
            "218/218 [==============================] - 0s 2ms/step - loss: 0.1657 - accuracy: 0.9519\n",
            "Epoch 47/100\n",
            "218/218 [==============================] - 0s 2ms/step - loss: 0.1655 - accuracy: 0.9520\n",
            "Epoch 48/100\n",
            "218/218 [==============================] - 0s 2ms/step - loss: 0.1653 - accuracy: 0.9518\n",
            "Epoch 49/100\n",
            "218/218 [==============================] - 0s 2ms/step - loss: 0.1648 - accuracy: 0.9518\n",
            "Epoch 50/100\n",
            "218/218 [==============================] - 0s 2ms/step - loss: 0.1647 - accuracy: 0.9520\n",
            "Epoch 51/100\n",
            "218/218 [==============================] - 0s 2ms/step - loss: 0.1648 - accuracy: 0.9520\n",
            "Epoch 52/100\n",
            "218/218 [==============================] - 0s 2ms/step - loss: 0.1645 - accuracy: 0.9522\n",
            "Epoch 53/100\n",
            "218/218 [==============================] - 0s 2ms/step - loss: 0.1641 - accuracy: 0.9523\n",
            "Epoch 54/100\n",
            "218/218 [==============================] - 0s 1ms/step - loss: 0.1640 - accuracy: 0.9520\n",
            "Epoch 55/100\n",
            "218/218 [==============================] - 0s 2ms/step - loss: 0.1636 - accuracy: 0.9518\n",
            "Epoch 56/100\n",
            "218/218 [==============================] - 0s 1ms/step - loss: 0.1636 - accuracy: 0.9519\n",
            "Epoch 57/100\n",
            "218/218 [==============================] - 0s 1ms/step - loss: 0.1632 - accuracy: 0.9520\n",
            "Epoch 58/100\n",
            "218/218 [==============================] - 0s 2ms/step - loss: 0.1629 - accuracy: 0.9518\n",
            "Epoch 59/100\n",
            "218/218 [==============================] - 0s 2ms/step - loss: 0.1629 - accuracy: 0.9523\n",
            "Epoch 60/100\n",
            "218/218 [==============================] - 0s 1ms/step - loss: 0.1625 - accuracy: 0.9519\n",
            "Epoch 61/100\n",
            "218/218 [==============================] - 0s 2ms/step - loss: 0.1625 - accuracy: 0.9519\n",
            "Epoch 62/100\n",
            "218/218 [==============================] - 0s 2ms/step - loss: 0.1624 - accuracy: 0.9515\n",
            "Epoch 63/100\n",
            "218/218 [==============================] - 0s 2ms/step - loss: 0.1620 - accuracy: 0.9522\n",
            "Epoch 64/100\n",
            "218/218 [==============================] - 0s 2ms/step - loss: 0.1621 - accuracy: 0.9519\n",
            "Epoch 65/100\n",
            "218/218 [==============================] - 0s 1ms/step - loss: 0.1619 - accuracy: 0.9522\n",
            "Epoch 66/100\n",
            "218/218 [==============================] - 0s 2ms/step - loss: 0.1618 - accuracy: 0.9520\n",
            "Epoch 67/100\n",
            "218/218 [==============================] - 0s 2ms/step - loss: 0.1617 - accuracy: 0.9520\n",
            "Epoch 68/100\n",
            "218/218 [==============================] - 0s 1ms/step - loss: 0.1615 - accuracy: 0.9519\n",
            "Epoch 69/100\n",
            "218/218 [==============================] - 0s 2ms/step - loss: 0.1612 - accuracy: 0.9520\n",
            "Epoch 70/100\n",
            "218/218 [==============================] - 0s 1ms/step - loss: 0.1611 - accuracy: 0.9523\n",
            "Epoch 71/100\n",
            "218/218 [==============================] - 0s 1ms/step - loss: 0.1608 - accuracy: 0.9519\n",
            "Epoch 72/100\n",
            "218/218 [==============================] - 0s 2ms/step - loss: 0.1608 - accuracy: 0.9525\n",
            "Epoch 73/100\n",
            "218/218 [==============================] - 0s 2ms/step - loss: 0.1607 - accuracy: 0.9522\n",
            "Epoch 74/100\n",
            "218/218 [==============================] - 0s 2ms/step - loss: 0.1604 - accuracy: 0.9523\n",
            "Epoch 75/100\n",
            "218/218 [==============================] - 0s 1ms/step - loss: 0.1602 - accuracy: 0.9525\n",
            "Epoch 76/100\n",
            "218/218 [==============================] - 0s 2ms/step - loss: 0.1604 - accuracy: 0.9519\n",
            "Epoch 77/100\n",
            "218/218 [==============================] - 0s 2ms/step - loss: 0.1601 - accuracy: 0.9523\n",
            "Epoch 78/100\n",
            "218/218 [==============================] - 0s 2ms/step - loss: 0.1604 - accuracy: 0.9522\n",
            "Epoch 79/100\n",
            "218/218 [==============================] - 0s 1ms/step - loss: 0.1597 - accuracy: 0.9522\n",
            "Epoch 80/100\n",
            "218/218 [==============================] - 0s 2ms/step - loss: 0.1597 - accuracy: 0.9528\n",
            "Epoch 81/100\n",
            "218/218 [==============================] - 0s 2ms/step - loss: 0.1597 - accuracy: 0.9520\n",
            "Epoch 82/100\n",
            "218/218 [==============================] - 0s 2ms/step - loss: 0.1596 - accuracy: 0.9529\n",
            "Epoch 83/100\n",
            "218/218 [==============================] - 0s 2ms/step - loss: 0.1594 - accuracy: 0.9523\n",
            "Epoch 84/100\n",
            "218/218 [==============================] - 0s 2ms/step - loss: 0.1595 - accuracy: 0.9530\n",
            "Epoch 85/100\n",
            "218/218 [==============================] - 0s 2ms/step - loss: 0.1592 - accuracy: 0.9526\n",
            "Epoch 86/100\n",
            "218/218 [==============================] - 0s 2ms/step - loss: 0.1590 - accuracy: 0.9525\n",
            "Epoch 87/100\n",
            "218/218 [==============================] - 0s 2ms/step - loss: 0.1593 - accuracy: 0.9526\n",
            "Epoch 88/100\n",
            "218/218 [==============================] - 0s 2ms/step - loss: 0.1591 - accuracy: 0.9526\n",
            "Epoch 89/100\n",
            "218/218 [==============================] - 0s 1ms/step - loss: 0.1588 - accuracy: 0.9525\n",
            "Epoch 90/100\n",
            "218/218 [==============================] - 0s 1ms/step - loss: 0.1588 - accuracy: 0.9522\n",
            "Epoch 91/100\n",
            "218/218 [==============================] - 0s 2ms/step - loss: 0.1591 - accuracy: 0.9526\n",
            "Epoch 92/100\n",
            "218/218 [==============================] - 0s 1ms/step - loss: 0.1588 - accuracy: 0.9529\n",
            "Epoch 93/100\n",
            "218/218 [==============================] - 0s 2ms/step - loss: 0.1585 - accuracy: 0.9525\n",
            "Epoch 94/100\n",
            "218/218 [==============================] - 0s 2ms/step - loss: 0.1587 - accuracy: 0.9526\n",
            "Epoch 95/100\n",
            "218/218 [==============================] - 0s 2ms/step - loss: 0.1583 - accuracy: 0.9526\n",
            "Epoch 96/100\n",
            "218/218 [==============================] - 0s 2ms/step - loss: 0.1582 - accuracy: 0.9526\n",
            "Epoch 97/100\n",
            "218/218 [==============================] - 0s 2ms/step - loss: 0.1584 - accuracy: 0.9530\n",
            "Epoch 98/100\n",
            "218/218 [==============================] - 0s 2ms/step - loss: 0.1583 - accuracy: 0.9526\n",
            "Epoch 99/100\n",
            "218/218 [==============================] - 0s 2ms/step - loss: 0.1582 - accuracy: 0.9532\n",
            "Epoch 100/100\n",
            "218/218 [==============================] - 0s 2ms/step - loss: 0.1579 - accuracy: 0.9529\n"
          ]
        },
        {
          "output_type": "execute_result",
          "data": {
            "text/plain": [
              "<keras.callbacks.History at 0x7f52f46a7af0>"
            ]
          },
          "metadata": {},
          "execution_count": 20
        }
      ]
    },
    {
      "cell_type": "markdown",
      "metadata": {
        "id": "tJj5k2MxZga3"
      },
      "source": [
        "## Part 4 - Making the predictions and evaluating the model"
      ]
    },
    {
      "cell_type": "markdown",
      "metadata": {
        "id": "84QFoqGYeXHL"
      },
      "source": [
        "### Predicting the result of a single observation"
      ]
    },
    {
      "cell_type": "markdown",
      "metadata": {
        "id": "CGRo3eacgDdC"
      },
      "source": [
        "**Homework**\n",
        "\n",
        "Use our ANN model to predict if the customer with the following informations will leave the bank: \n",
        "\n",
        "\n",
        "*   Age: 40 years old\n",
        "*   Geography: Puebla\n",
        "*   LGBTI: No\n",
        "*   Indgena: No\n",
        "*   R1: 1\n",
        "*   R2: 0\n",
        "*   R3: 1\n",
        "*   R4: 1\n",
        "*   R5: 1\n",
        "*   R6: 0\n",
        "*   R7: 1\n",
        "*   R8: 0\n",
        "*   R9: 0\n",
        "*   R10: 0\n",
        "*   sexo: Hombre\n",
        "\n",
        "So, should we say goodbye to that customer ?"
      ]
    },
    {
      "cell_type": "markdown",
      "metadata": {
        "id": "ZhU1LTgPg-kH"
      },
      "source": [
        "**Solution**"
      ]
    },
    {
      "cell_type": "code",
      "metadata": {
        "id": "2d8IoCCkeWGL",
        "outputId": "dbffb147-dbe4-49db-fd18-65f79e9623f2",
        "colab": {
          "base_uri": "https://localhost:8080/",
          "height": 320
        }
      },
      "source": [
        "print(ann.predict(sc.transform([[40,0, 0, 0, 0, 0, 1, 0, 1, 1, 1, 0, 1,1,0,0,0]])) > 0.5)"
      ],
      "execution_count": 21,
      "outputs": [
        {
          "output_type": "error",
          "ename": "ValueError",
          "evalue": "ignored",
          "traceback": [
            "\u001b[0;31m---------------------------------------------------------------------------\u001b[0m",
            "\u001b[0;31mValueError\u001b[0m                                Traceback (most recent call last)",
            "\u001b[0;32m<ipython-input-21-6f5c968912b5>\u001b[0m in \u001b[0;36m<module>\u001b[0;34m\u001b[0m\n\u001b[0;32m----> 1\u001b[0;31m \u001b[0mprint\u001b[0m\u001b[0;34m(\u001b[0m\u001b[0mann\u001b[0m\u001b[0;34m.\u001b[0m\u001b[0mpredict\u001b[0m\u001b[0;34m(\u001b[0m\u001b[0msc\u001b[0m\u001b[0;34m.\u001b[0m\u001b[0mtransform\u001b[0m\u001b[0;34m(\u001b[0m\u001b[0;34m[\u001b[0m\u001b[0;34m[\u001b[0m\u001b[0;36m40\u001b[0m\u001b[0;34m,\u001b[0m\u001b[0;36m0\u001b[0m\u001b[0;34m,\u001b[0m \u001b[0;36m0\u001b[0m\u001b[0;34m,\u001b[0m \u001b[0;36m0\u001b[0m\u001b[0;34m,\u001b[0m \u001b[0;36m0\u001b[0m\u001b[0;34m,\u001b[0m \u001b[0;36m0\u001b[0m\u001b[0;34m,\u001b[0m \u001b[0;36m1\u001b[0m\u001b[0;34m,\u001b[0m \u001b[0;36m0\u001b[0m\u001b[0;34m,\u001b[0m \u001b[0;36m1\u001b[0m\u001b[0;34m,\u001b[0m \u001b[0;36m1\u001b[0m\u001b[0;34m,\u001b[0m \u001b[0;36m1\u001b[0m\u001b[0;34m,\u001b[0m \u001b[0;36m0\u001b[0m\u001b[0;34m,\u001b[0m \u001b[0;36m1\u001b[0m\u001b[0;34m,\u001b[0m\u001b[0;36m1\u001b[0m\u001b[0;34m,\u001b[0m\u001b[0;36m0\u001b[0m\u001b[0;34m,\u001b[0m\u001b[0;36m0\u001b[0m\u001b[0;34m,\u001b[0m\u001b[0;36m0\u001b[0m\u001b[0;34m]\u001b[0m\u001b[0;34m]\u001b[0m\u001b[0;34m)\u001b[0m\u001b[0;34m)\u001b[0m \u001b[0;34m>\u001b[0m \u001b[0;36m0.5\u001b[0m\u001b[0;34m)\u001b[0m\u001b[0;34m\u001b[0m\u001b[0;34m\u001b[0m\u001b[0m\n\u001b[0m",
            "\u001b[0;32m/usr/local/lib/python3.8/dist-packages/sklearn/preprocessing/_data.py\u001b[0m in \u001b[0;36mtransform\u001b[0;34m(self, X, copy)\u001b[0m\n\u001b[1;32m    971\u001b[0m \u001b[0;34m\u001b[0m\u001b[0m\n\u001b[1;32m    972\u001b[0m         \u001b[0mcopy\u001b[0m \u001b[0;34m=\u001b[0m \u001b[0mcopy\u001b[0m \u001b[0;32mif\u001b[0m \u001b[0mcopy\u001b[0m \u001b[0;32mis\u001b[0m \u001b[0;32mnot\u001b[0m \u001b[0;32mNone\u001b[0m \u001b[0;32melse\u001b[0m \u001b[0mself\u001b[0m\u001b[0;34m.\u001b[0m\u001b[0mcopy\u001b[0m\u001b[0;34m\u001b[0m\u001b[0;34m\u001b[0m\u001b[0m\n\u001b[0;32m--> 973\u001b[0;31m         X = self._validate_data(\n\u001b[0m\u001b[1;32m    974\u001b[0m             \u001b[0mX\u001b[0m\u001b[0;34m,\u001b[0m\u001b[0;34m\u001b[0m\u001b[0;34m\u001b[0m\u001b[0m\n\u001b[1;32m    975\u001b[0m             \u001b[0mreset\u001b[0m\u001b[0;34m=\u001b[0m\u001b[0;32mFalse\u001b[0m\u001b[0;34m,\u001b[0m\u001b[0;34m\u001b[0m\u001b[0;34m\u001b[0m\u001b[0m\n",
            "\u001b[0;32m/usr/local/lib/python3.8/dist-packages/sklearn/base.py\u001b[0m in \u001b[0;36m_validate_data\u001b[0;34m(self, X, y, reset, validate_separately, **check_params)\u001b[0m\n\u001b[1;32m    583\u001b[0m \u001b[0;34m\u001b[0m\u001b[0m\n\u001b[1;32m    584\u001b[0m         \u001b[0;32mif\u001b[0m \u001b[0;32mnot\u001b[0m \u001b[0mno_val_X\u001b[0m \u001b[0;32mand\u001b[0m \u001b[0mcheck_params\u001b[0m\u001b[0;34m.\u001b[0m\u001b[0mget\u001b[0m\u001b[0;34m(\u001b[0m\u001b[0;34m\"ensure_2d\"\u001b[0m\u001b[0;34m,\u001b[0m \u001b[0;32mTrue\u001b[0m\u001b[0;34m)\u001b[0m\u001b[0;34m:\u001b[0m\u001b[0;34m\u001b[0m\u001b[0;34m\u001b[0m\u001b[0m\n\u001b[0;32m--> 585\u001b[0;31m             \u001b[0mself\u001b[0m\u001b[0;34m.\u001b[0m\u001b[0m_check_n_features\u001b[0m\u001b[0;34m(\u001b[0m\u001b[0mX\u001b[0m\u001b[0;34m,\u001b[0m \u001b[0mreset\u001b[0m\u001b[0;34m=\u001b[0m\u001b[0mreset\u001b[0m\u001b[0;34m)\u001b[0m\u001b[0;34m\u001b[0m\u001b[0;34m\u001b[0m\u001b[0m\n\u001b[0m\u001b[1;32m    586\u001b[0m \u001b[0;34m\u001b[0m\u001b[0m\n\u001b[1;32m    587\u001b[0m         \u001b[0;32mreturn\u001b[0m \u001b[0mout\u001b[0m\u001b[0;34m\u001b[0m\u001b[0;34m\u001b[0m\u001b[0m\n",
            "\u001b[0;32m/usr/local/lib/python3.8/dist-packages/sklearn/base.py\u001b[0m in \u001b[0;36m_check_n_features\u001b[0;34m(self, X, reset)\u001b[0m\n\u001b[1;32m    398\u001b[0m \u001b[0;34m\u001b[0m\u001b[0m\n\u001b[1;32m    399\u001b[0m         \u001b[0;32mif\u001b[0m \u001b[0mn_features\u001b[0m \u001b[0;34m!=\u001b[0m \u001b[0mself\u001b[0m\u001b[0;34m.\u001b[0m\u001b[0mn_features_in_\u001b[0m\u001b[0;34m:\u001b[0m\u001b[0;34m\u001b[0m\u001b[0;34m\u001b[0m\u001b[0m\n\u001b[0;32m--> 400\u001b[0;31m             raise ValueError(\n\u001b[0m\u001b[1;32m    401\u001b[0m                 \u001b[0;34mf\"X has {n_features} features, but {self.__class__.__name__} \"\u001b[0m\u001b[0;34m\u001b[0m\u001b[0;34m\u001b[0m\u001b[0m\n\u001b[1;32m    402\u001b[0m                 \u001b[0;34mf\"is expecting {self.n_features_in_} features as input.\"\u001b[0m\u001b[0;34m\u001b[0m\u001b[0;34m\u001b[0m\u001b[0m\n",
            "\u001b[0;31mValueError\u001b[0m: X has 17 features, but StandardScaler is expecting 46 features as input."
          ]
        }
      ]
    },
    {
      "cell_type": "markdown",
      "metadata": {
        "id": "wGjx94g2n7OV"
      },
      "source": [
        "Therefore, our ANN model predicts that this customer stays in the bank!\n",
        "\n",
        "**Important note 1:** Notice that the values of the features were all input in a double pair of square brackets. That's because the \"predict\" method always expects a 2D array as the format of its inputs. And putting our values into a double pair of square brackets makes the input exactly a 2D array.\n",
        "\n",
        "**Important note 2:** Notice also that the \"France\" country was not input as a string in the last column but as \"1, 0, 0\" in the first three columns. That's because of course the predict method expects the one-hot-encoded values of the state, and as we see in the first row of the matrix of features X, \"France\" was encoded as \"1, 0, 0\". And be careful to include these values in the first three columns, because the dummy variables are always created in the first columns."
      ]
    },
    {
      "cell_type": "markdown",
      "metadata": {
        "id": "u7yx47jPZt11"
      },
      "source": [
        "### Predicting the Test set results"
      ]
    },
    {
      "cell_type": "code",
      "metadata": {
        "id": "nIyEeQdRZwgs",
        "outputId": "542e477c-6da4-493a-d60e-0f44dc862542",
        "colab": {
          "base_uri": "https://localhost:8080/"
        }
      },
      "source": [
        "y_pred = ann.predict(X_test)\n",
        "y_pred = (y_pred > 0.5)\n",
        "print(np.concatenate((y_pred.reshape(len(y_pred),1), y_test.reshape(len(y_test),1)),1))"
      ],
      "execution_count": 22,
      "outputs": [
        {
          "output_type": "stream",
          "name": "stdout",
          "text": [
            "55/55 [==============================] - 0s 1ms/step\n",
            "[[0 0]\n",
            " [0 0]\n",
            " [0 0]\n",
            " ...\n",
            " [0 0]\n",
            " [0 0]\n",
            " [0 0]]\n"
          ]
        }
      ]
    },
    {
      "cell_type": "markdown",
      "metadata": {
        "id": "o0oyfLWoaEGw"
      },
      "source": [
        "### Making the Confusion Matrix"
      ]
    },
    {
      "cell_type": "code",
      "metadata": {
        "id": "ci6K_r6LaF6P",
        "outputId": "637b1965-800e-4486-8504-9a6fb8ac0a11",
        "colab": {
          "base_uri": "https://localhost:8080/"
        }
      },
      "source": [
        "from sklearn.metrics import confusion_matrix, accuracy_score\n",
        "cm = confusion_matrix(y_test, y_pred)\n",
        "print(cm)\n",
        "accuracy_score(y_test, y_pred)"
      ],
      "execution_count": 23,
      "outputs": [
        {
          "output_type": "stream",
          "name": "stdout",
          "text": [
            "[[1663    8]\n",
            " [  70    0]]\n"
          ]
        },
        {
          "output_type": "execute_result",
          "data": {
            "text/plain": [
              "0.9551981619758759"
            ]
          },
          "metadata": {},
          "execution_count": 23
        }
      ]
    }
  ]
}